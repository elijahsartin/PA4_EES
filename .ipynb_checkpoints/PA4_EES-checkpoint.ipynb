{
 "cells": [
  {
   "cell_type": "markdown",
   "id": "7f894b4c",
   "metadata": {},
   "source": [
    "# Programming Assignment 4\n",
    "## Elijah Sartin\n",
    "## 0.1\n",
    "## Fall 2021 - Section 1"
   ]
  },
  {
   "cell_type": "markdown",
   "id": "f75470b2",
   "metadata": {},
   "source": [
    "i. append() - Adds an additional element to the end of a list"
   ]
  },
  {
   "cell_type": "code",
   "execution_count": 1,
   "id": "0a437ac1",
   "metadata": {},
   "outputs": [
    {
     "name": "stdout",
     "output_type": "stream",
     "text": [
      "[7, 20, 11, 9, 34]\n"
     ]
    }
   ],
   "source": [
    "list = [7, 20, 11, 9]\n",
    "list.append(34)\n",
    "print(list)"
   ]
  },
  {
   "cell_type": "markdown",
   "id": "8a97b67a",
   "metadata": {},
   "source": [
    "ii. extend() - Adds multiple elements to the end of a list"
   ]
  },
  {
   "cell_type": "code",
   "execution_count": 3,
   "id": "124fcf21",
   "metadata": {},
   "outputs": [
    {
     "name": "stdout",
     "output_type": "stream",
     "text": [
      "['bob', 'jack', 'john', 22, 19, 20]\n"
     ]
    }
   ],
   "source": [
    "names = ['bob', 'jack', 'john']\n",
    "ages = [22, 19, 20]\n",
    "names.extend(ages)\n",
    "print(names)"
   ]
  },
  {
   "cell_type": "markdown",
   "id": "20ba38a8",
   "metadata": {},
   "source": [
    "iii. insert() - Adds an element to a specified position in a list"
   ]
  },
  {
   "cell_type": "code",
   "execution_count": 4,
   "id": "b72c30f2",
   "metadata": {},
   "outputs": [
    {
     "name": "stdout",
     "output_type": "stream",
     "text": [
      "['a', 'b', 'c', 'd', 'e']\n"
     ]
    }
   ],
   "source": [
    "letters = ['a', 'b', 'd', 'e']\n",
    "letters.insert(2, 'c')\n",
    "print(letters)"
   ]
  },
  {
   "cell_type": "markdown",
   "id": "22327d3a",
   "metadata": {},
   "source": [
    "iv. remove() - Removes a specified element from a list"
   ]
  },
  {
   "cell_type": "code",
   "execution_count": 5,
   "id": "49783b9a",
   "metadata": {},
   "outputs": [
    {
     "name": "stdout",
     "output_type": "stream",
     "text": [
      "[8, 9, 5]\n"
     ]
    }
   ],
   "source": [
    "numbers = [8, 12, 9, 5]\n",
    "numbers.remove(12)\n",
    "print(numbers)"
   ]
  },
  {
   "cell_type": "markdown",
   "id": "726ddfac",
   "metadata": {},
   "source": [
    "v. count() - Counts the number of times a specified element appears in a list"
   ]
  },
  {
   "cell_type": "code",
   "execution_count": 8,
   "id": "0dafd9ae",
   "metadata": {},
   "outputs": [
    {
     "data": {
      "text/plain": [
       "2"
      ]
     },
     "execution_count": 8,
     "metadata": {},
     "output_type": "execute_result"
    }
   ],
   "source": [
    "names = ['bob', 'joe', 'arnold', 'joe']\n",
    "names.count('joe')"
   ]
  },
  {
   "cell_type": "markdown",
   "id": "cc937119",
   "metadata": {},
   "source": [
    "vi. index() - Returns the position of the first occurence of a specified value"
   ]
  },
  {
   "cell_type": "code",
   "execution_count": 9,
   "id": "a4e5f336",
   "metadata": {},
   "outputs": [
    {
     "data": {
      "text/plain": [
       "1"
      ]
     },
     "execution_count": 9,
     "metadata": {},
     "output_type": "execute_result"
    }
   ],
   "source": [
    "numbers = [7, 4, 19, 30, 23]\n",
    "numbers.index(4)"
   ]
  },
  {
   "cell_type": "markdown",
   "id": "c03d70d6",
   "metadata": {},
   "source": [
    "vii. pop() - Removes an element at a specified position"
   ]
  },
  {
   "cell_type": "code",
   "execution_count": 10,
   "id": "7322888e",
   "metadata": {},
   "outputs": [
    {
     "name": "stdout",
     "output_type": "stream",
     "text": [
      "[12, 6, 14]\n"
     ]
    }
   ],
   "source": [
    "numbers = [12, 6, 14, 8]\n",
    "numbers.pop(3)\n",
    "print(numbers)"
   ]
  },
  {
   "cell_type": "markdown",
   "id": "6c6b437d",
   "metadata": {},
   "source": [
    "viii. sorted() - Creates a sorted copy of a list, ascending by default"
   ]
  },
  {
   "cell_type": "code",
   "execution_count": 12,
   "id": "91bc5be8",
   "metadata": {},
   "outputs": [
    {
     "name": "stdout",
     "output_type": "stream",
     "text": [
      "[5, 7, 12, 19]\n"
     ]
    }
   ],
   "source": [
    "list = [7, 12, 19, 5]\n",
    "x = sorted(list)\n",
    "print(x)"
   ]
  },
  {
   "cell_type": "markdown",
   "id": "ac571eb3",
   "metadata": {},
   "source": [
    "ix. copy() - Creates a copy of a list"
   ]
  },
  {
   "cell_type": "code",
   "execution_count": 14,
   "id": "a598562f",
   "metadata": {},
   "outputs": [
    {
     "name": "stdout",
     "output_type": "stream",
     "text": [
      "['python', 'CS', 'Java']\n"
     ]
    }
   ],
   "source": [
    "list = ['python', 'CS', 'Java']\n",
    "x = list.copy()\n",
    "print(x)"
   ]
  },
  {
   "cell_type": "markdown",
   "id": "01dc3849",
   "metadata": {},
   "source": [
    "x. clear() - Removes all elements from a list"
   ]
  },
  {
   "cell_type": "code",
   "execution_count": 15,
   "id": "c657f5aa",
   "metadata": {},
   "outputs": [
    {
     "name": "stdout",
     "output_type": "stream",
     "text": [
      "[]\n"
     ]
    }
   ],
   "source": [
    "list = ['Dodgers', 'Braves', 'RedSox']\n",
    "list.clear()\n",
    "print(list)"
   ]
  },
  {
   "cell_type": "markdown",
   "id": "4745a8f3",
   "metadata": {},
   "source": [
    "xi. any() - Returns True if any items in the list are true"
   ]
  },
  {
   "cell_type": "code",
   "execution_count": 16,
   "id": "e936862e",
   "metadata": {},
   "outputs": [
    {
     "data": {
      "text/plain": [
       "True"
      ]
     },
     "execution_count": 16,
     "metadata": {},
     "output_type": "execute_result"
    }
   ],
   "source": [
    "list = [5.7, 8, 9, 13]\n",
    "any(list)"
   ]
  },
  {
   "cell_type": "markdown",
   "id": "ae38aa95",
   "metadata": {},
   "source": [
    "xii. filter() - Returns elements that satistfy a condition"
   ]
  },
  {
   "cell_type": "code",
   "execution_count": 5,
   "id": "fe6d40b1",
   "metadata": {},
   "outputs": [
    {
     "name": "stdout",
     "output_type": "stream",
     "text": [
      "[7, 11, 19, 37, 99]\n"
     ]
    }
   ],
   "source": [
    "numbers = [7, 11, 14, 28, 19, 12, 37, 99, 58]\n",
    "\n",
    "def check_odd(x):\n",
    "    if x % 2 != 0:\n",
    "        return x\n",
    "        \n",
    "print(list(filter(check_odd, numbers)))"
   ]
  },
  {
   "cell_type": "markdown",
   "id": "2adc8554",
   "metadata": {},
   "source": [
    "xiii. list() - Takes inputs and add its elements to a new list"
   ]
  },
  {
   "cell_type": "code",
   "execution_count": 2,
   "id": "c5b23d73",
   "metadata": {},
   "outputs": [
    {
     "name": "stdout",
     "output_type": "stream",
     "text": [
      "[]\n",
      "['D', 'o', 'd', 'g', 'e', 'r', 's']\n"
     ]
    }
   ],
   "source": [
    "print(list())\n",
    "baseball = 'Dodgers'\n",
    "baseball_list = list(baseball)\n",
    "print(baseball_list)"
   ]
  },
  {
   "cell_type": "markdown",
   "id": "75ed8d5b",
   "metadata": {},
   "source": [
    "xiv. map() - Applies a function to every element in a list"
   ]
  },
  {
   "cell_type": "code",
   "execution_count": 6,
   "id": "76fcaf35",
   "metadata": {},
   "outputs": [
    {
     "name": "stdout",
     "output_type": "stream",
     "text": [
      "[14, 6, 22, 30]\n"
     ]
    }
   ],
   "source": [
    "numbers = [7, 3, 11, 15]\n",
    "def double(x):\n",
    "    return x * 2\n",
    "print(list(map(double, numbers)))"
   ]
  },
  {
   "cell_type": "markdown",
   "id": "ca1cacd0",
   "metadata": {},
   "source": [
    "i. cmp() - No longer available in Python 3"
   ]
  },
  {
   "cell_type": "markdown",
   "id": "a04887d2",
   "metadata": {},
   "source": [
    "ii. len() - Returns the number of elements in a tuple"
   ]
  },
  {
   "cell_type": "code",
   "execution_count": 7,
   "id": "55a28474",
   "metadata": {},
   "outputs": [
    {
     "name": "stdout",
     "output_type": "stream",
     "text": [
      "4\n"
     ]
    }
   ],
   "source": [
    "numbers = (7, 19, 6, 28)\n",
    "print(len(numbers))"
   ]
  },
  {
   "cell_type": "markdown",
   "id": "5a411cab",
   "metadata": {},
   "source": [
    "iii. max() - Returns the largest element in an tuple"
   ]
  },
  {
   "cell_type": "code",
   "execution_count": 8,
   "id": "bf8763e9",
   "metadata": {},
   "outputs": [
    {
     "name": "stdout",
     "output_type": "stream",
     "text": [
      "83\n"
     ]
    }
   ],
   "source": [
    "numbers = (19, 77, 14, 83, 65)\n",
    "print(max(numbers))"
   ]
  },
  {
   "cell_type": "markdown",
   "id": "7518c121",
   "metadata": {},
   "source": [
    "iv. tuple(seq) - Converts a list into a tuple"
   ]
  },
  {
   "cell_type": "code",
   "execution_count": 9,
   "id": "2bf18451",
   "metadata": {},
   "outputs": [
    {
     "name": "stdout",
     "output_type": "stream",
     "text": [
      "('bob', 'sue', 'maxwell')\n"
     ]
    }
   ],
   "source": [
    "names = ['bob', 'sue', 'maxwell']\n",
    "print(tuple(names))"
   ]
  }
 ],
 "metadata": {
  "kernelspec": {
   "display_name": "Python 3",
   "language": "python",
   "name": "python3"
  },
  "language_info": {
   "codemirror_mode": {
    "name": "ipython",
    "version": 3
   },
   "file_extension": ".py",
   "mimetype": "text/x-python",
   "name": "python",
   "nbconvert_exporter": "python",
   "pygments_lexer": "ipython3",
   "version": "3.8.8"
  }
 },
 "nbformat": 4,
 "nbformat_minor": 5
}
